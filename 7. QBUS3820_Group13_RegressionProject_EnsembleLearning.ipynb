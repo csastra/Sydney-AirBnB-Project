{
 "cells": [
  {
   "cell_type": "markdown",
   "id": "7f9fcdbc",
   "metadata": {},
   "source": [
    "# Import libararies"
   ]
  },
  {
   "cell_type": "code",
   "execution_count": 1,
   "id": "c97ef1dd",
   "metadata": {},
   "outputs": [],
   "source": [
    "import numpy as np\n",
    "import pandas as pd\n",
    "import math\n",
    "from datetime import datetime\n",
    "import matplotlib\n",
    "import matplotlib.pyplot as plt\n",
    "import seaborn as sns \n",
    "from sklearn.preprocessing import MinMaxScaler\n",
    "from scipy import stats\n",
    "from scipy.stats import mannwhitneyu"
   ]
  },
  {
   "cell_type": "code",
   "execution_count": 2,
   "id": "cea7b4a5",
   "metadata": {},
   "outputs": [],
   "source": [
    "# This is to clear the warnings from the notebook, usually we should leave this on\n",
    "import warnings\n",
    "warnings.filterwarnings('ignore') \n",
    "\n",
    "# Plot settings\n",
    "sns.set_context('notebook') # optimises figures for notebook display\n",
    "sns.set_style('ticks') # set default plot style\n",
    "colours = ['#4E79A7','#F28E2C','#E15759','#76B7B2','#59A14F', \n",
    "          '#EDC949','#AF7AA1','#FF9DA7','#9C755F','#BAB0AB']\n",
    "sns.set_palette(colours) # set custom color scheme\n",
    "%matplotlib inline\n",
    "plt.rcParams['figure.figsize'] = (9, 6)"
   ]
  },
  {
   "cell_type": "markdown",
   "id": "1e86b9f0",
   "metadata": {},
   "source": [
    "# Data Preprocessing"
   ]
  },
  {
   "cell_type": "code",
   "execution_count": 3,
   "id": "6f14d90e",
   "metadata": {},
   "outputs": [
    {
     "data": {
      "text/html": [
       "<div>\n",
       "<style scoped>\n",
       "    .dataframe tbody tr th:only-of-type {\n",
       "        vertical-align: middle;\n",
       "    }\n",
       "\n",
       "    .dataframe tbody tr th {\n",
       "        vertical-align: top;\n",
       "    }\n",
       "\n",
       "    .dataframe thead th {\n",
       "        text-align: right;\n",
       "    }\n",
       "</style>\n",
       "<table border=\"1\" class=\"dataframe\">\n",
       "  <thead>\n",
       "    <tr style=\"text-align: right;\">\n",
       "      <th></th>\n",
       "      <th>id</th>\n",
       "      <th>name</th>\n",
       "      <th>description</th>\n",
       "      <th>neighbourhood_overview</th>\n",
       "      <th>host_id</th>\n",
       "      <th>host_name</th>\n",
       "      <th>host_since</th>\n",
       "      <th>host_location</th>\n",
       "      <th>host_about</th>\n",
       "      <th>host_response_time</th>\n",
       "      <th>...</th>\n",
       "      <th>review_communication</th>\n",
       "      <th>review_location</th>\n",
       "      <th>review_value</th>\n",
       "      <th>license</th>\n",
       "      <th>instant_bookable</th>\n",
       "      <th>calculated_host_listings_count</th>\n",
       "      <th>calculated_host_listings_count_entire_homes</th>\n",
       "      <th>calculated_host_listings_count_private_rooms</th>\n",
       "      <th>calculated_host_listings_count_shared_rooms</th>\n",
       "      <th>reviews_per_month</th>\n",
       "    </tr>\n",
       "  </thead>\n",
       "  <tbody>\n",
       "    <tr>\n",
       "      <th>0</th>\n",
       "      <td>11156</td>\n",
       "      <td>['oasis', 'city']</td>\n",
       "      <td>['central', 'city', 'reached', 'easy', 'walk',...</td>\n",
       "      <td>['close', 'everything', 'everywhere', 'many', ...</td>\n",
       "      <td>40855</td>\n",
       "      <td>Colleen</td>\n",
       "      <td>2009-09-23</td>\n",
       "      <td>Potts Point, New South Wales, Australia</td>\n",
       "      <td>['recently', 'retired', 'lived', 'worked', 'co...</td>\n",
       "      <td>missing</td>\n",
       "      <td>...</td>\n",
       "      <td>4.77</td>\n",
       "      <td>4.82</td>\n",
       "      <td>4.71</td>\n",
       "      <td>False</td>\n",
       "      <td>False</td>\n",
       "      <td>1</td>\n",
       "      <td>0</td>\n",
       "      <td>1</td>\n",
       "      <td>0</td>\n",
       "      <td>1.34</td>\n",
       "    </tr>\n",
       "    <tr>\n",
       "      <th>1</th>\n",
       "      <td>14250</td>\n",
       "      <td>['manly', 'harbour', 'house']</td>\n",
       "      <td>['beautifully', 'renovated', 'spacious', 'quie...</td>\n",
       "      <td>['balgowlah', 'heights', 'one', 'prestigious',...</td>\n",
       "      <td>55948</td>\n",
       "      <td>Heidi</td>\n",
       "      <td>2009-11-20</td>\n",
       "      <td>Sydney, New South Wales, Australia</td>\n",
       "      <td>['canadian', 'made', 'australia', 'home', 'ten...</td>\n",
       "      <td>within a few hours</td>\n",
       "      <td>...</td>\n",
       "      <td>4.33</td>\n",
       "      <td>4.67</td>\n",
       "      <td>4.33</td>\n",
       "      <td>True</td>\n",
       "      <td>False</td>\n",
       "      <td>2</td>\n",
       "      <td>2</td>\n",
       "      <td>0</td>\n",
       "      <td>0</td>\n",
       "      <td>0.04</td>\n",
       "    </tr>\n",
       "    <tr>\n",
       "      <th>2</th>\n",
       "      <td>15253</td>\n",
       "      <td>['unique', 'designer', 'rooftop', 'apartment',...</td>\n",
       "      <td>['penthouse', 'living', 'best', 'staying', 'un...</td>\n",
       "      <td>['location', 'really', 'central', 'number', 't...</td>\n",
       "      <td>59850</td>\n",
       "      <td>Morag</td>\n",
       "      <td>2009-12-03</td>\n",
       "      <td>Sydney, New South Wales, Australia</td>\n",
       "      <td>['originally', 'scottish', 'made', 'sydney', '...</td>\n",
       "      <td>within an hour</td>\n",
       "      <td>...</td>\n",
       "      <td>4.67</td>\n",
       "      <td>4.7</td>\n",
       "      <td>4.47</td>\n",
       "      <td>True</td>\n",
       "      <td>True</td>\n",
       "      <td>1</td>\n",
       "      <td>0</td>\n",
       "      <td>1</td>\n",
       "      <td>0</td>\n",
       "      <td>3.21</td>\n",
       "    </tr>\n",
       "    <tr>\n",
       "      <th>3</th>\n",
       "      <td>44545</td>\n",
       "      <td>['sunny', 'darlinghurst', 'warehouse', 'apartm...</td>\n",
       "      <td>['sunny', 'warehouseloft', 'apartment', 'heart...</td>\n",
       "      <td>['darlinghurst', 'home', 'sydney', 'best', 're...</td>\n",
       "      <td>112237</td>\n",
       "      <td>Atari</td>\n",
       "      <td>2010-04-22</td>\n",
       "      <td>Sydney, New South Wales, Australia</td>\n",
       "      <td>['curious', 'world', 'full', 'wanderlust', 'ai...</td>\n",
       "      <td>missing</td>\n",
       "      <td>...</td>\n",
       "      <td>4.96</td>\n",
       "      <td>4.93</td>\n",
       "      <td>4.77</td>\n",
       "      <td>False</td>\n",
       "      <td>False</td>\n",
       "      <td>1</td>\n",
       "      <td>1</td>\n",
       "      <td>0</td>\n",
       "      <td>0</td>\n",
       "      <td>0.56</td>\n",
       "    </tr>\n",
       "    <tr>\n",
       "      <th>4</th>\n",
       "      <td>58506</td>\n",
       "      <td>['studio', 'yindi', 'mosman', 'sydney']</td>\n",
       "      <td>['open', 'plan', 'apartment', 'opens', 'onto',...</td>\n",
       "      <td>['mosman', 'smart', 'middle', 'upper', 'class'...</td>\n",
       "      <td>279955</td>\n",
       "      <td>John</td>\n",
       "      <td>2010-11-06</td>\n",
       "      <td>Sydney, New South Wales, Australia</td>\n",
       "      <td>['faber', 'est', 'suae', 'quisquae', 'fortunae...</td>\n",
       "      <td>within a few hours</td>\n",
       "      <td>...</td>\n",
       "      <td>4.9</td>\n",
       "      <td>4.73</td>\n",
       "      <td>4.68</td>\n",
       "      <td>True</td>\n",
       "      <td>False</td>\n",
       "      <td>1</td>\n",
       "      <td>1</td>\n",
       "      <td>0</td>\n",
       "      <td>0</td>\n",
       "      <td>2.23</td>\n",
       "    </tr>\n",
       "  </tbody>\n",
       "</table>\n",
       "<p>5 rows × 55 columns</p>\n",
       "</div>"
      ],
      "text/plain": [
       "      id                                               name  \\\n",
       "0  11156                                  ['oasis', 'city']   \n",
       "1  14250                      ['manly', 'harbour', 'house']   \n",
       "2  15253  ['unique', 'designer', 'rooftop', 'apartment',...   \n",
       "3  44545  ['sunny', 'darlinghurst', 'warehouse', 'apartm...   \n",
       "4  58506            ['studio', 'yindi', 'mosman', 'sydney']   \n",
       "\n",
       "                                         description  \\\n",
       "0  ['central', 'city', 'reached', 'easy', 'walk',...   \n",
       "1  ['beautifully', 'renovated', 'spacious', 'quie...   \n",
       "2  ['penthouse', 'living', 'best', 'staying', 'un...   \n",
       "3  ['sunny', 'warehouseloft', 'apartment', 'heart...   \n",
       "4  ['open', 'plan', 'apartment', 'opens', 'onto',...   \n",
       "\n",
       "                              neighbourhood_overview  host_id host_name  \\\n",
       "0  ['close', 'everything', 'everywhere', 'many', ...    40855   Colleen   \n",
       "1  ['balgowlah', 'heights', 'one', 'prestigious',...    55948     Heidi   \n",
       "2  ['location', 'really', 'central', 'number', 't...    59850     Morag   \n",
       "3  ['darlinghurst', 'home', 'sydney', 'best', 're...   112237     Atari   \n",
       "4  ['mosman', 'smart', 'middle', 'upper', 'class'...   279955      John   \n",
       "\n",
       "   host_since                            host_location  \\\n",
       "0  2009-09-23  Potts Point, New South Wales, Australia   \n",
       "1  2009-11-20       Sydney, New South Wales, Australia   \n",
       "2  2009-12-03       Sydney, New South Wales, Australia   \n",
       "3  2010-04-22       Sydney, New South Wales, Australia   \n",
       "4  2010-11-06       Sydney, New South Wales, Australia   \n",
       "\n",
       "                                          host_about  host_response_time  ...  \\\n",
       "0  ['recently', 'retired', 'lived', 'worked', 'co...             missing  ...   \n",
       "1  ['canadian', 'made', 'australia', 'home', 'ten...  within a few hours  ...   \n",
       "2  ['originally', 'scottish', 'made', 'sydney', '...      within an hour  ...   \n",
       "3  ['curious', 'world', 'full', 'wanderlust', 'ai...             missing  ...   \n",
       "4  ['faber', 'est', 'suae', 'quisquae', 'fortunae...  within a few hours  ...   \n",
       "\n",
       "  review_communication review_location  review_value license  \\\n",
       "0                 4.77            4.82          4.71   False   \n",
       "1                 4.33            4.67          4.33    True   \n",
       "2                 4.67             4.7          4.47    True   \n",
       "3                 4.96            4.93          4.77   False   \n",
       "4                  4.9            4.73          4.68    True   \n",
       "\n",
       "   instant_bookable calculated_host_listings_count  \\\n",
       "0             False                              1   \n",
       "1             False                              2   \n",
       "2              True                              1   \n",
       "3             False                              1   \n",
       "4             False                              1   \n",
       "\n",
       "   calculated_host_listings_count_entire_homes  \\\n",
       "0                                            0   \n",
       "1                                            2   \n",
       "2                                            0   \n",
       "3                                            1   \n",
       "4                                            1   \n",
       "\n",
       "   calculated_host_listings_count_private_rooms  \\\n",
       "0                                             1   \n",
       "1                                             0   \n",
       "2                                             1   \n",
       "3                                             0   \n",
       "4                                             0   \n",
       "\n",
       "  calculated_host_listings_count_shared_rooms  reviews_per_month  \n",
       "0                                           0               1.34  \n",
       "1                                           0               0.04  \n",
       "2                                           0               3.21  \n",
       "3                                           0               0.56  \n",
       "4                                           0               2.23  \n",
       "\n",
       "[5 rows x 55 columns]"
      ]
     },
     "execution_count": 3,
     "metadata": {},
     "output_type": "execute_result"
    }
   ],
   "source": [
    "data = pd.read_csv('airbnb_clean.csv')\n",
    "data.head()"
   ]
  },
  {
   "cell_type": "code",
   "execution_count": 4,
   "id": "e3dd83c2",
   "metadata": {},
   "outputs": [],
   "source": [
    "data = data.drop(['id', 'host_id'], axis = 1)"
   ]
  },
  {
   "cell_type": "code",
   "execution_count": 5,
   "id": "542064a7",
   "metadata": {},
   "outputs": [],
   "source": [
    "# transform host_since from object to datetime\n",
    "data['host_since'] = pd.to_datetime(data['host_since'], dayfirst = True, format = '%Y/%m/%d', errors = 'coerce')"
   ]
  },
  {
   "cell_type": "code",
   "execution_count": 6,
   "id": "9c0aed5a",
   "metadata": {},
   "outputs": [],
   "source": [
    "# finding mean of response percent\n",
    "total_response_percent = 0\n",
    "count_response_percent = 0\n",
    "for x in data['response_percent']:\n",
    "    if x != 'missing':\n",
    "        total_response_percent += pd.to_numeric(x, downcast = 'float')\n",
    "        count_response_percent += 1\n",
    "\n",
    "avg_response_percent = total_response_percent / count_response_percent\n",
    "# avg_response_percent"
   ]
  },
  {
   "cell_type": "code",
   "execution_count": 7,
   "id": "79274de0",
   "metadata": {},
   "outputs": [],
   "source": [
    "# transform response_percent from object to float\n",
    "# convert missing values to 50\n",
    "\n",
    "data_response_percent = []\n",
    "\n",
    "for x in data['response_percent']:\n",
    "    if x == 'missing':\n",
    "        value = avg_response_percent\n",
    "    else:\n",
    "        value = x\n",
    "    data_response_percent.append(pd.to_numeric(value, downcast = 'float'))\n",
    "data['response_percent'] = data_response_percent"
   ]
  },
  {
   "cell_type": "code",
   "execution_count": 8,
   "id": "1f196215",
   "metadata": {},
   "outputs": [],
   "source": [
    "# finding mean of acceptance percent\n",
    "total_acceptance_percent = 0\n",
    "count_acceptance_percent = 0\n",
    "for x in data['acceptance_percent']:\n",
    "    if x != 'missing':\n",
    "        total_acceptance_percent += pd.to_numeric(x, downcast = 'float')\n",
    "        count_acceptance_percent += 1\n",
    "\n",
    "avg_acceptance_percent = total_acceptance_percent / count_acceptance_percent\n",
    "# avg_acceptance_percent"
   ]
  },
  {
   "cell_type": "code",
   "execution_count": 9,
   "id": "0b7e1a85",
   "metadata": {},
   "outputs": [],
   "source": [
    "# transform acceptance_percent from object to float\n",
    "# convert missing values to 50\n",
    "\n",
    "data_acceptance_percent = []\n",
    "\n",
    "for x in data['acceptance_percent']:\n",
    "    if x == 'missing':\n",
    "        value = avg_acceptance_percent\n",
    "    else:\n",
    "        value = x\n",
    "    data_acceptance_percent.append(pd.to_numeric(value, downcast = 'float'))\n",
    "data['acceptance_percent'] = data_acceptance_percent"
   ]
  },
  {
   "cell_type": "code",
   "execution_count": 10,
   "id": "9744968a",
   "metadata": {},
   "outputs": [
    {
     "data": {
      "text/plain": [
       "0.6415008955105727"
      ]
     },
     "execution_count": 10,
     "metadata": {},
     "output_type": "execute_result"
    }
   ],
   "source": [
    "# finding mean of reviews per month\n",
    "total_reviews_per_month = 0\n",
    "count_reviews_per_month = 0\n",
    "for x in data['reviews_per_month']:\n",
    "    if x != 'missing':\n",
    "        total_reviews_per_month += pd.to_numeric(x, downcast = 'float')\n",
    "        count_reviews_per_month += 1\n",
    "\n",
    "avg_reviews_per_month = total_reviews_per_month / count_reviews_per_month\n",
    "avg_reviews_per_month"
   ]
  },
  {
   "cell_type": "code",
   "execution_count": 11,
   "id": "c205e800",
   "metadata": {},
   "outputs": [],
   "source": [
    "# transform reviews_per_month from object to float\n",
    "\n",
    "data_reviews_per_month = []\n",
    "\n",
    "for x in data['reviews_per_month']:\n",
    "    if x == 'missing':\n",
    "        value = avg_reviews_per_month\n",
    "    else:\n",
    "        value = x\n",
    "    data_reviews_per_month.append(pd.to_numeric(value, downcast = 'float'))\n",
    "data['reviews_per_month'] = data_reviews_per_month"
   ]
  },
  {
   "cell_type": "code",
   "execution_count": 12,
   "id": "ba8c3b2f",
   "metadata": {},
   "outputs": [],
   "source": [
    "# mean function\n",
    "def find_mean(variable):\n",
    "    total = 0\n",
    "    count = 0\n",
    "    for x in data[variable]:\n",
    "        if x != 'missing':\n",
    "            total += pd.to_numeric(x, downcast = 'float')\n",
    "            count += 1\n",
    "\n",
    "    avg = total / count\n",
    "    return avg"
   ]
  },
  {
   "cell_type": "code",
   "execution_count": 13,
   "id": "183a2e41",
   "metadata": {},
   "outputs": [],
   "source": [
    "# transform reviews from object to float\n",
    "review_scores_all = ['review_rating', 'review_accuracy', 'review_cleanliness', 'review_checkin', \n",
    "                     'review_communication', 'review_location' , 'review_value']\n",
    "\n",
    "for review in review_scores_all:\n",
    "    avg = find_mean(review)\n",
    "    data_reviews = []\n",
    "    for x in data[review]:\n",
    "        if x == 'missing':\n",
    "            value = avg\n",
    "        else:\n",
    "            value = x\n",
    "        data_reviews.append(pd.to_numeric(value, downcast = 'float'))\n",
    "    data[review] = data_reviews"
   ]
  },
  {
   "cell_type": "code",
   "execution_count": 14,
   "id": "c8bfb43d",
   "metadata": {},
   "outputs": [],
   "source": [
    "y = data['price']\n",
    "\n",
    "X = data[['bedrooms', 'accommodates', 'beds', 'latitude', 'longitude', 'acceptance_percent', 'review_rating', \n",
    "          'host_has_profile_pic', 'host_is_verified', 'room_type', 'has_availability', 'instant_bookable']]\n",
    "\n",
    "X_dummy = pd.get_dummies(X, drop_first=True)"
   ]
  },
  {
   "cell_type": "code",
   "execution_count": 15,
   "id": "cfb91433",
   "metadata": {},
   "outputs": [],
   "source": [
    "from sklearn.model_selection import train_test_split\n",
    "\n",
    "X_train, X_test, y_train, y_test = train_test_split(X_dummy, y, test_size=0.2, random_state=1)"
   ]
  },
  {
   "cell_type": "raw",
   "id": "70edb149",
   "metadata": {},
   "source": [
    "d = {'col1': ['True', 'False', 'True'], 'col2': pd.Series([1, 2, 3])}\n",
    "df = pd.DataFrame(data=d)\n",
    "df\n",
    "\n",
    "#convert T/F string into bool\n",
    "df['col1'] = df['col1'].apply(lambda x: True if x == 'True' else False)\n",
    "\n",
    "print(f'{df.iloc[0,0]} is {type(df.iloc[0,0])}')"
   ]
  },
  {
   "cell_type": "markdown",
   "id": "30088c6c",
   "metadata": {},
   "source": [
    "# Models"
   ]
  },
  {
   "cell_type": "markdown",
   "id": "048edb7f",
   "metadata": {},
   "source": [
    "tb1: Decision Tree"
   ]
  },
  {
   "cell_type": "code",
   "execution_count": 16,
   "id": "e3b2b437",
   "metadata": {},
   "outputs": [],
   "source": [
    "from sklearn.tree import DecisionTreeRegressor\n",
    "from sklearn.model_selection import cross_val_score\n",
    "from sklearn import metrics"
   ]
  },
  {
   "cell_type": "code",
   "execution_count": 17,
   "id": "86e4c228",
   "metadata": {},
   "outputs": [],
   "source": [
    "# hyper parameters\n",
    "depth = 4 #insert depth\n",
    "\n",
    "# model\n",
    "decision_tree_reg = DecisionTreeRegressor(max_depth = depth, random_state=1)\n",
    "# decision_tree_reg.fit(X_train, y_train)\n",
    "# y_pred = decision_tree_reg.predict(X_test)\n",
    "\n",
    "#     print('Decision Tree at depth {}'.format(depth))\n",
    "#     print('MSE: {}'.format(metrics.mean_squared_error(y_test, y_pred)))\n",
    "#     print('RMSE: {}'.format(np.sqrt(metrics.mean_squared_error(y_test, y_pred))))\n",
    "#     print('MAE: {}'.format(np.mean(np.abs(y_test - y_pred))))\n",
    "#     Adj_R2_p1 = (1- metrics.r2_score(y_test, y_pred))\n",
    "#     Adj_R2_p2 = (len(X_test) - 1) - (len(X_test) - len(X_test.iloc[0]) - 1)\n",
    "#     print('Adj R2: {}'.format((1 - (Adj_R2_p1*Adj_R2_p2))))\n",
    "#     print('')\n",
    "#     print('-----------------------------------------')\n",
    "#     print('')"
   ]
  },
  {
   "cell_type": "code",
   "execution_count": 18,
   "id": "57b241cf",
   "metadata": {},
   "outputs": [],
   "source": [
    "# variables\n",
    "tb1 = decision_tree_reg\n",
    "# tb1_yhat = y_pred"
   ]
  },
  {
   "cell_type": "markdown",
   "id": "b18f523d",
   "metadata": {},
   "source": [
    "tb2: Random Forest"
   ]
  },
  {
   "cell_type": "code",
   "execution_count": 19,
   "id": "e61bfa69",
   "metadata": {},
   "outputs": [],
   "source": [
    "from sklearn.ensemble import RandomForestRegressor"
   ]
  },
  {
   "cell_type": "code",
   "execution_count": 20,
   "id": "e804cd69",
   "metadata": {},
   "outputs": [],
   "source": [
    "random_forest_reg = RandomForestRegressor(max_depth = 10, random_state=1)\n",
    "random_forest_reg.fit(X_train, y_train)\n",
    "y_pred = random_forest_reg.predict(X_test)\n",
    "\n",
    "# print('Random Forest at depth {}'.format(10))\n",
    "# print('MSE: {}'.format(metrics.mean_squared_error(y_test, y_pred)))\n",
    "# print('RMSE: {}'.format(np.sqrt(metrics.mean_squared_error(y_test, y_pred))))\n",
    "# print('MAE: {}'.format(np.mean(np.abs(y_test - y_pred))))\n",
    "# Adj_R2_p1 = (1- metrics.r2_score(y_test, y_pred))\n",
    "# Adj_R2_p2 = (len(X_test) - 1) - (len(X_test) - len(X_test.iloc[0]) - 1)\n",
    "# print('Adj R2: {}'.format((1 - (Adj_R2_p1*Adj_R2_p2))))"
   ]
  },
  {
   "cell_type": "code",
   "execution_count": 21,
   "id": "48d0c663",
   "metadata": {},
   "outputs": [],
   "source": [
    "# variables\n",
    "tb2 = random_forest_reg\n",
    "# tb2_yhat = y_pred"
   ]
  },
  {
   "cell_type": "markdown",
   "id": "64033c3e",
   "metadata": {},
   "source": [
    "tb3: Optimized Forest"
   ]
  },
  {
   "cell_type": "code",
   "execution_count": 22,
   "id": "4e084104",
   "metadata": {},
   "outputs": [],
   "source": [
    "from sklearn.model_selection import GridSearchCV\n",
    "import time"
   ]
  },
  {
   "cell_type": "code",
   "execution_count": 23,
   "id": "8236fa98",
   "metadata": {},
   "outputs": [
    {
     "data": {
      "text/plain": [
       "RandomForestRegressor(max_depth=8, max_features='sqrt', n_estimators=91,\n",
       "                      random_state=1)"
      ]
     },
     "execution_count": 23,
     "metadata": {},
     "output_type": "execute_result"
    }
   ],
   "source": [
    "#hyperparameter\n",
    "n = 91\n",
    "max_k = 'sqrt'\n",
    "depth = 8\n",
    "\n",
    "#model\n",
    "optimised_forest_reg = RandomForestRegressor(max_depth = depth, max_features = max_k, n_estimators = n, random_state=1)\n",
    "optimised_forest_reg.fit(X_train, y_train)\n",
    "# y_pred = optimised_forest_reg.predict(X_test)\n",
    "\n",
    "# print('Optimised forest:')\n",
    "# print('MSE: {}'.format(metrics.mean_squared_error(y_test, y_pred)))\n",
    "# print('RMSE: {}'.format(np.sqrt(metrics.mean_squared_error(y_test, y_pred))))\n",
    "# print('MAE: {}'.format(np.mean(np.abs(y_test - y_pred))))\n",
    "# Adj_R2_p1 = (1- metrics.r2_score(y_test, y_pred))\n",
    "# Adj_R2_p2 = (len(X_test) - 1) - (len(X_test) - len(X_test.iloc[0]) - 1)\n",
    "# print('Adj R2: {}'.format((1 - (Adj_R2_p1*Adj_R2_p2))))"
   ]
  },
  {
   "cell_type": "code",
   "execution_count": 24,
   "id": "74654016",
   "metadata": {},
   "outputs": [],
   "source": [
    "tb3 = optimised_forest_reg\n",
    "# tb3_yhat = y_pred"
   ]
  },
  {
   "cell_type": "markdown",
   "id": "8779c3c1",
   "metadata": {},
   "source": [
    "ln1: Multiple Linear Regression"
   ]
  },
  {
   "cell_type": "code",
   "execution_count": 25,
   "id": "74ec0f30",
   "metadata": {},
   "outputs": [
    {
     "data": {
      "text/plain": [
       "LinearRegression()"
      ]
     },
     "execution_count": 25,
     "metadata": {},
     "output_type": "execute_result"
    }
   ],
   "source": [
    "from sklearn import linear_model\n",
    "\n",
    "regr = linear_model.LinearRegression()\n",
    "regr.fit(X_train, y_train)\n",
    "# y_pred = regr.predict(X_test)"
   ]
  },
  {
   "cell_type": "code",
   "execution_count": 26,
   "id": "fb924909",
   "metadata": {},
   "outputs": [],
   "source": [
    "# print('Linear Regression:')\n",
    "# print('MSE: {}'.format(metrics.mean_squared_error(y_test, y_pred)))\n",
    "# print('RMSE: {}'.format(np.sqrt(metrics.mean_squared_error(y_test, y_pred))))\n",
    "# print('MAE: {}'.format(np.mean(np.abs(y_test - y_pred))))\n",
    "# Adj_R2_p1 = (1- metrics.r2_score(y_test, y_pred))\n",
    "# Adj_R2_p2 = (len(X_test) - 1) - (len(X_test) - len(X_test.iloc[0]) - 1)\n",
    "# print('Adj R2: {}'.format((1 - (Adj_R2_p1*Adj_R2_p2))))"
   ]
  },
  {
   "cell_type": "code",
   "execution_count": 27,
   "id": "ae7b8bcf",
   "metadata": {},
   "outputs": [],
   "source": [
    "ln1 = regr\n",
    "# ln1_yhat = y_pred"
   ]
  },
  {
   "cell_type": "markdown",
   "id": "f2b1979a",
   "metadata": {},
   "source": [
    "ln2:  Ridge Regression"
   ]
  },
  {
   "cell_type": "raw",
   "id": "dd3a30a0",
   "metadata": {},
   "source": [
    "%%time\n",
    "\n",
    "# grid search hyperparameters for ridge regression\n",
    "from numpy import arange\n",
    "from pandas import read_csv\n",
    "from sklearn.model_selection import GridSearchCV\n",
    "from sklearn.model_selection import RepeatedKFold\n",
    "from sklearn.linear_model import Ridge\n",
    "#the dataset\n",
    "X, y = X_train, y_train\n",
    "\n",
    "# define model\n",
    "model = Ridge()\n",
    "\n",
    "# define model evaluation method\n",
    "cv = RepeatedKFold(n_splits=10, n_repeats=3, random_state=1)\n",
    "\n",
    "# define grid\n",
    "grid = dict()\n",
    "grid['alpha'] = arange(0, 1, 0.01)\n",
    "\n",
    "# define search\n",
    "search = GridSearchCV(model, grid, scoring='neg_mean_absolute_error', cv=cv, n_jobs=-1)\n",
    "\n",
    "# perform the search\n",
    "results = search.fit(X, y)\n",
    "\n",
    "# summarize\n",
    "print('MAE: %.3f' % results.best_score_)\n",
    "print('Config: %s' % results.best_params_)"
   ]
  },
  {
   "cell_type": "code",
   "execution_count": 28,
   "id": "575e3de7",
   "metadata": {},
   "outputs": [
    {
     "data": {
      "text/plain": [
       "Ridge(alpha=0.99)"
      ]
     },
     "execution_count": 28,
     "metadata": {},
     "output_type": "execute_result"
    }
   ],
   "source": [
    "from numpy import mean\n",
    "from numpy import std\n",
    "from numpy import absolute\n",
    "from pandas import read_csv\n",
    "from sklearn.model_selection import cross_val_score\n",
    "from sklearn.model_selection import RepeatedKFold\n",
    "from sklearn.linear_model import Ridge\n",
    "\n",
    "#hyperparameter\n",
    "a = 0.99 #insert alpha\n",
    "\n",
    "#modeling\n",
    "clf = Ridge(alpha=a)\n",
    "clf.fit(X_train, y_train)\n",
    "# Ridge()"
   ]
  },
  {
   "cell_type": "raw",
   "id": "74c7e45e",
   "metadata": {},
   "source": [
    "# define model evaluation method\n",
    "cv = RepeatedKFold(n_splits=10, n_repeats=3, random_state=1)\n",
    "\n",
    "# evaluate model\n",
    "scores = cross_val_score(clf, X_train, y_train, scoring='neg_mean_absolute_error', cv=cv, n_jobs=-1)\n",
    "\n",
    "# force scores to be positive\n",
    "scores = absolute(scores)\n",
    "print('Mean MAE: %.3f (%.3f)' % (mean(scores), std(scores)))"
   ]
  },
  {
   "cell_type": "code",
   "execution_count": 29,
   "id": "c33b1132",
   "metadata": {},
   "outputs": [],
   "source": [
    "ln2 = clf\n",
    "# ln2_yhat = scores"
   ]
  },
  {
   "cell_type": "markdown",
   "id": "50994e4f",
   "metadata": {},
   "source": [
    "All together"
   ]
  },
  {
   "cell_type": "code",
   "execution_count": 30,
   "id": "fe110dc2",
   "metadata": {},
   "outputs": [],
   "source": [
    "#tb1: Decision Tree\n",
    "from sklearn.tree import DecisionTreeRegressor\n",
    "\n",
    "depth = 4 \n",
    "\n",
    "decision_tree_reg = DecisionTreeRegressor(max_depth = depth, random_state=1)\n",
    "decision_tree_reg.fit(X_train, y_train)\n",
    "\n",
    "tb1 = decision_tree_reg\n",
    "\n",
    "#tb2: Random Forest\n",
    "from sklearn.ensemble import RandomForestRegressor\n",
    "\n",
    "random_forest_reg = RandomForestRegressor(max_depth = 10, random_state=1)\n",
    "random_forest_reg.fit(X_train, y_train)\n",
    "\n",
    "tb2 = random_forest_reg\n",
    "\n",
    "#tb3: Optimized Forest\n",
    "n = 91\n",
    "max_k = 'sqrt'\n",
    "depth = 8\n",
    "\n",
    "optimised_forest_reg = RandomForestRegressor(max_depth = depth, max_features = max_k, n_estimators = n, random_state=1)\n",
    "optimised_forest_reg.fit(X_train, y_train)\n",
    "\n",
    "tb3 = optimised_forest_reg\n",
    "\n",
    "#ln1: Multiple Linear Regression\n",
    "from sklearn import linear_model\n",
    "\n",
    "regr = linear_model.LinearRegression()\n",
    "regr.fit(X_train, y_train)\n",
    "\n",
    "ln1 = regr\n",
    "\n",
    "#ln2: Ridge Regression\n",
    "from sklearn.linear_model import Ridge\n",
    "\n",
    "a = 0.99 #insert alpha\n",
    "\n",
    "clf = Ridge(alpha=a)\n",
    "clf.fit(X_train, y_train)\n",
    "\n",
    "ln2 = clf"
   ]
  },
  {
   "cell_type": "code",
   "execution_count": 31,
   "id": "7661b10f",
   "metadata": {},
   "outputs": [],
   "source": [
    "def get_models():\n",
    "    models = dict()\n",
    "    models['Decision Tree'] = tb1\n",
    "    models['Random Forest'] = tb2\n",
    "    models['Optimized RT'] = tb3\n",
    "    models['MLR'] = ln1\n",
    "    models['Ridge'] = ln2\n",
    "    return models"
   ]
  },
  {
   "cell_type": "code",
   "execution_count": 32,
   "id": "af5449dc",
   "metadata": {},
   "outputs": [],
   "source": [
    "def evaluate_model(model, X, y):\n",
    "    cv = RepeatedStratifiedKFold(n_splits=10, n_repeats=3, random_state=1)\n",
    "    rmse_scores = np.sqrt(abs(cross_val_score(model, X, y, scoring='neg_mean_squared_error', cv=cv, n_jobs=-1, error_score='raise')))\n",
    "    mae_scores = abs(cross_val_score(model, X, y, scoring='neg_mean_absolute_error', cv=cv, n_jobs=-1, error_score='raise'))\n",
    "    \n",
    "    r2_scores = abs(cross_val_score(model, X, y, scoring='r2', cv=cv, n_jobs=-1, error_score='raise'))\n",
    "    adj_r2_p1 = (1-r2_scores)\n",
    "    adj_r2_p2 = (len(X) - 1) - (len(X) - len(X.iloc[0]) - 1)\n",
    "    adj_r2_scores = (1 - (adj_r2_p1*adj_r2_p2))\n",
    "     \n",
    "    return rmse_scores, mae_scores, adj_r2_scores"
   ]
  },
  {
   "cell_type": "code",
   "execution_count": 33,
   "id": "b3ced4a1",
   "metadata": {},
   "outputs": [
    {
     "name": "stdout",
     "output_type": "stream",
     "text": [
      "Wall time: 0 ns\n"
     ]
    }
   ],
   "source": [
    "%%time \n",
    "\n",
    "from sklearn.model_selection import RepeatedStratifiedKFold\n",
    "import matplotlib.pyplot as plt\n",
    "\n",
    "# define dataset\n",
    "X, y = X_train, y_train\n",
    "\n",
    "# get the models to evaluate\n",
    "models = get_models()\n",
    "\n",
    "# evaluate the models and store results\n",
    "def eval_model(X, y, models):\n",
    "    rmse_results, mae_results, adj_r2_results, names = list(), list(), list(), list()\n",
    "    for name, model in models.items():\n",
    "        rmse_scores, mae_scores, adj_r2_scores = evaluate_model(model, X, y)\n",
    "        rmse_results.append(rmse_scores)\n",
    "        mae_results.append(mae_scores)\n",
    "        adj_r2_results.append(adj_r2_scores)\n",
    "        names.append(name)\n",
    "        print('>%s %.3f RMSE (%.3f)' % (name, mean(rmse_scores), std(rmse_scores)))\n",
    "        print('>%s %.3f MAE (%.3f)' % (name, mean(mae_scores), std(mae_scores)))\n",
    "        print('>%s %.3f Adj. R2 (%.3f)' % (name, mean(adj_r2_scores), std(adj_r2_scores)))\n",
    "\n",
    "    # plot model performance for comparison\n",
    "    plt.figure()\n",
    "    plt.boxplot(rmse_results, labels=names, showmeans=True)\n",
    "    plt.title('RMSE Boxplot of the Models')\n",
    "    plt.show()\n",
    "\n",
    "    plt.figure()\n",
    "    plt.boxplot(mae_results, labels=names, showmeans=True)\n",
    "    plt.title('MAE Boxplot of the Models')\n",
    "    plt.show()\n",
    "\n",
    "    plt.figure()\n",
    "    plt.boxplot(adj_r2_results, labels=names, showmeans=True)\n",
    "    plt.title('Adj. R2 Boxplot of the Models')\n",
    "    plt.show()"
   ]
  },
  {
   "cell_type": "code",
   "execution_count": 34,
   "id": "28aa2dd8",
   "metadata": {},
   "outputs": [
    {
     "name": "stdout",
     "output_type": "stream",
     "text": [
      ">Decision Tree 427.403 RMSE (145.824)\n",
      ">Decision Tree 131.168 MAE (7.219)\n",
      ">Decision Tree -8.984 Adj. R2 (1.650)\n",
      ">Random Forest 417.232 RMSE (148.345)\n",
      ">Random Forest 119.509 MAE (7.732)\n",
      ">Random Forest -8.517 Adj. R2 (1.977)\n",
      ">Optimized RT 405.001 RMSE (151.941)\n",
      ">Optimized RT 119.592 MAE (7.162)\n",
      ">Optimized RT -7.910 Adj. R2 (2.070)\n",
      ">MLR 432.443 RMSE (144.978)\n",
      ">MLR 151.296 MAE (7.053)\n",
      ">MLR -9.223 Adj. R2 (1.494)\n",
      ">Ridge 432.442 RMSE (144.979)\n",
      ">Ridge 151.188 MAE (7.049)\n",
      ">Ridge -9.223 Adj. R2 (1.494)\n"
     ]
    },
    {
     "data": {
      "image/png": "[encoded data removed]",
      "text/plain": [
       "<Figure size 648x432 with 1 Axes>"
      ]
     },
     "metadata": {
      "needs_background": "light"
     },
     "output_type": "display_data"
    },
    {
     "data": {
      "image/png": "[encoded data removed]",
      "text/plain": [
       "<Figure size 648x432 with 1 Axes>"
      ]
     },
     "metadata": {
      "needs_background": "light"
     },
     "output_type": "display_data"
    },
    {
     "data": {
      "image/png": "[encoded data removed]",
      "text/plain": [
       "<Figure size 648x432 with 1 Axes>"
      ]
     },
     "metadata": {
      "needs_background": "light"
     },
     "output_type": "display_data"
    }
   ],
   "source": [
    "eval_model(X_train, y_train, models)"
   ]
  },
  {
   "cell_type": "markdown",
   "id": "c05bf23b",
   "metadata": {},
   "source": [
    "Analysis:\n",
    "- Optimized RT performs the best overall with a MSE of..., MAE of..., and Adj R2 of ....\n",
    "- The tree-based models i did better than the regression models\n",
    "- The two regression models returns the similar results, with ridge slightly better"
   ]
  },
  {
   "cell_type": "markdown",
   "id": "b8c0abc0",
   "metadata": {},
   "source": [
    "Stacking Regressor Model:\n",
    "* Linear Regression Meta Model\n",
    "* Combined by 5-Fold Cross Validation\n",
    "* Chosen models: Optimized RT and Ridge Regression"
   ]
  },
  {
   "cell_type": "code",
   "execution_count": 35,
   "id": "9a47a8b9",
   "metadata": {},
   "outputs": [],
   "source": [
    "from sklearn.linear_model import LinearRegression\n",
    "from sklearn.ensemble import StackingRegressor\n",
    "\n",
    "# get a stacking ensemble of models\n",
    "def get_stacking():\n",
    "    # define the base models\n",
    "    level0 = list()\n",
    "    level0.append(('Optimized RT', tb3))\n",
    "    level0.append(('Ridge', ln2))\n",
    "    # define meta learner model\n",
    "    level1 = LinearRegression()\n",
    "    # define the stacking ensemble\n",
    "    model = StackingRegressor(estimators=level0, final_estimator=level1, cv=5)\n",
    "    return model"
   ]
  },
  {
   "cell_type": "code",
   "execution_count": 36,
   "id": "884ec674",
   "metadata": {},
   "outputs": [],
   "source": [
    "# get a list of models to evaluate 2.0 - adding stacking, removing others\n",
    "def get_models():\n",
    "    models = dict()\n",
    "    models['Decision Tree'] = tb1\n",
    "    models['Random Forest'] = tb2\n",
    "    models['Optimized RT'] = tb3\n",
    "    models['MLR'] = ln1\n",
    "    models['Ridge'] = ln2\n",
    "    models['Stacking'] = get_stacking()\n",
    "    return models"
   ]
  },
  {
   "cell_type": "code",
   "execution_count": 37,
   "id": "8d879138",
   "metadata": {},
   "outputs": [
    {
     "name": "stdout",
     "output_type": "stream",
     "text": [
      ">Decision Tree 427.403 RMSE (145.824)\n",
      ">Decision Tree 131.168 MAE (7.219)\n",
      ">Decision Tree -8.984 Adj. R2 (1.650)\n",
      ">Random Forest 417.232 RMSE (148.345)\n",
      ">Random Forest 119.509 MAE (7.732)\n",
      ">Random Forest -8.517 Adj. R2 (1.977)\n",
      ">Optimized RT 405.001 RMSE (151.941)\n",
      ">Optimized RT 119.592 MAE (7.162)\n",
      ">Optimized RT -7.910 Adj. R2 (2.070)\n",
      ">MLR 432.443 RMSE (144.978)\n",
      ">MLR 151.296 MAE (7.053)\n",
      ">MLR -9.223 Adj. R2 (1.494)\n",
      ">Ridge 432.442 RMSE (144.979)\n",
      ">Ridge 151.188 MAE (7.049)\n",
      ">Ridge -9.223 Adj. R2 (1.494)\n",
      ">Stacking 404.262 RMSE (152.177)\n",
      ">Stacking 118.272 MAE (7.169)\n",
      ">Stacking -7.886 Adj. R2 (2.119)\n"
     ]
    },
    {
     "data": {
      "image/png": "[encoded data removed]",
      "text/plain": [
       "<Figure size 648x432 with 1 Axes>"
      ]
     },
     "metadata": {
      "needs_background": "light"
     },
     "output_type": "display_data"
    },
    {
     "data": {
      "image/png": "[encoded data removed]",
      "text/plain": [
       "<Figure size 648x432 with 1 Axes>"
      ]
     },
     "metadata": {
      "needs_background": "light"
     },
     "output_type": "display_data"
    },
    {
     "data": {
      "image/png": "[encoded data removed]",
      "text/plain": [
       "<Figure size 648x432 with 1 Axes>"
      ]
     },
     "metadata": {
      "needs_background": "light"
     },
     "output_type": "display_data"
    },
    {
     "name": "stdout",
     "output_type": "stream",
     "text": [
      "Wall time: 6min 54s\n"
     ]
    }
   ],
   "source": [
    "%%time\n",
    "\n",
    "# define dataset\n",
    "X, y = X_train, y_train\n",
    "\n",
    "# get the models to evaluate\n",
    "models = get_models()\n",
    "\n",
    "# evaluate the models\n",
    "eval_model(X_train, y_train, models)"
   ]
  },
  {
   "cell_type": "markdown",
   "id": "f2b8a47d",
   "metadata": {},
   "source": [
    "# Test Set"
   ]
  },
  {
   "cell_type": "code",
   "execution_count": 38,
   "id": "14f4a4cb",
   "metadata": {},
   "outputs": [],
   "source": [
    "def evaluate_model_2(models, X_train, y_train, X_test, y_test):\n",
    "    for name, model in models.items():\n",
    "        \n",
    "        model.fit(X_train, y_train)\n",
    "        y_pred = model.predict(X_test)\n",
    "\n",
    "        print(f'{name}')\n",
    "#         print('MSE: {}'.format(metrics.mean_squared_error(y_test, y_pred)))\n",
    "        print('RMSE: {}'.format(np.sqrt(metrics.mean_squared_error(y_test, y_pred))))\n",
    "        print('MAE: {}'.format(np.mean(np.abs(y_test - y_pred))))\n",
    "        Adj_R2_p1 = (1- metrics.r2_score(y_test, y_pred))\n",
    "        Adj_R2_p2 = (len(X_test) - 1) - (len(X_test) - len(X_test.iloc[0]) - 1)\n",
    "        print('Adj R2: {}'.format((1 - (Adj_R2_p1*Adj_R2_p2))))\n",
    "        print()"
   ]
  },
  {
   "cell_type": "code",
   "execution_count": 39,
   "id": "a69539aa",
   "metadata": {},
   "outputs": [
    {
     "name": "stdout",
     "output_type": "stream",
     "text": [
      "Decision Tree\n",
      "RMSE: 322.65766452835237\n",
      "MAE: 122.5664588469157\n",
      "Adj R2: -7.270915608801348\n",
      "\n",
      "Random Forest\n",
      "RMSE: 305.72988498219775\n",
      "MAE: 110.84630979354417\n",
      "Adj R2: -6.425836853916586\n",
      "\n",
      "Optimized RT\n",
      "RMSE: 297.50108479044366\n",
      "MAE: 111.40538823497374\n",
      "Adj R2: -6.031479662622681\n",
      "\n",
      "MLR\n",
      "RMSE: 343.8997152702982\n",
      "MAE: 143.94133934676884\n",
      "Adj R2: -8.395788888584065\n",
      "\n",
      "Ridge\n",
      "RMSE: 343.8843591524119\n",
      "MAE: 143.84406097581999\n",
      "Adj R2: -8.394949808968244\n",
      "\n",
      "Stacking\n",
      "RMSE: 293.7663037961702\n",
      "MAE: 110.16343531177763\n",
      "Adj R2: -5.8560436758992385\n",
      "\n",
      "Wall time: 17.9 s\n"
     ]
    }
   ],
   "source": [
    "%%time \n",
    "\n",
    "# get the models to evaluate\n",
    "models = get_models()\n",
    "\n",
    "evaluate_model_2(models, X_train, y_train, X_test, y_test)"
   ]
  },
  {
   "cell_type": "code",
   "execution_count": 40,
   "id": "9026dd40",
   "metadata": {},
   "outputs": [],
   "source": [
    "import winsound\n",
    "winsound.MessageBeep()"
   ]
  },
  {
   "cell_type": "code",
   "execution_count": 41,
   "id": "7b519f22",
   "metadata": {},
   "outputs": [],
   "source": [
    "clf = get_stacking()"
   ]
  },
  {
   "cell_type": "code",
   "execution_count": 42,
   "id": "54fe8d3e",
   "metadata": {},
   "outputs": [
    {
     "data": {
      "text/plain": [
       "StackingRegressor(cv=5,\n",
       "                  estimators=[('Optimized RT',\n",
       "                               RandomForestRegressor(max_depth=8,\n",
       "                                                     max_features='sqrt',\n",
       "                                                     n_estimators=91,\n",
       "                                                     random_state=1)),\n",
       "                              ('Ridge', Ridge(alpha=0.99))],\n",
       "                  final_estimator=LinearRegression())"
      ]
     },
     "execution_count": 42,
     "metadata": {},
     "output_type": "execute_result"
    }
   ],
   "source": [
    "clf.fit(X_train, y_train)"
   ]
  },
  {
   "cell_type": "code",
   "execution_count": 43,
   "id": "d3f7be48",
   "metadata": {
    "scrolled": true
   },
   "outputs": [
    {
     "name": "stdout",
     "output_type": "stream",
     "text": [
      "[ 1.19114731 -0.10233124]\n",
      "\n",
      "RandomForestRegressor(max_depth=8, max_features='sqrt', n_estimators=91,\n",
      "                      random_state=1)\n",
      "\n",
      "Ridge(alpha=0.99)\n",
      "\n",
      "[RandomForestRegressor(max_depth=8, max_features='sqrt', n_estimators=91,\n",
      "                      random_state=1), Ridge(alpha=0.99)]\n",
      "\n"
     ]
    }
   ],
   "source": [
    "print(clf.final_estimator_.coef_)  # Regression Coefficients - Meta Model\n",
    "print()\n",
    "# Optimixed RT .. you can access its attributes by .name_of_attribute\n",
    "print(clf.named_estimators_['Optimized RT'])\n",
    "print()\n",
    "# Ridge .. you can access its attributes by .name_of_attribute\n",
    "print(clf.named_estimators_['Ridge'])\n",
    "print()\n",
    "print(clf.estimators_)  # All estimators in a list\n",
    "print()"
   ]
  }
 ],
 "metadata": {
  "kernelspec": {
   "display_name": "qbus3820",
   "language": "python",
   "name": "qbus3820"
  },
  "language_info": {
   "codemirror_mode": {
    "name": "ipython",
    "version": 3
   },
   "file_extension": ".py",
   "mimetype": "text/x-python",
   "name": "python",
   "nbconvert_exporter": "python",
   "pygments_lexer": "ipython3",
   "version": "3.9.7"
  }
 },
 "nbformat": 4,
 "nbformat_minor": 5
}
